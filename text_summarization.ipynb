{
 "cells": [
  {
   "cell_type": "code",
   "execution_count": 3,
   "metadata": {
    "collapsed": true
   },
   "outputs": [
    {
     "name": "stdout",
     "output_type": "stream",
     "text": [
      "Requirement already satisfied: transformers in c:\\users\\pavilion\\anaconda3\\lib\\site-packages (4.11.0)\n",
      "Requirement already satisfied: requests in c:\\users\\pavilion\\anaconda3\\lib\\site-packages (from transformers) (2.19.1)\n",
      "Requirement already satisfied: tqdm>=4.27 in c:\\users\\pavilion\\anaconda3\\lib\\site-packages (from transformers) (4.62.3)\n",
      "Requirement already satisfied: regex!=2019.12.17 in c:\\users\\pavilion\\anaconda3\\lib\\site-packages (from transformers) (2021.9.24)\n",
      "Requirement already satisfied: numpy>=1.17 in c:\\users\\pavilion\\anaconda3\\lib\\site-packages (from transformers) (1.21.2)\n",
      "Requirement already satisfied: pyyaml>=5.1 in c:\\users\\pavilion\\anaconda3\\lib\\site-packages (from transformers) (5.3.1)\n",
      "Requirement already satisfied: huggingface-hub>=0.0.17 in c:\\users\\pavilion\\anaconda3\\lib\\site-packages (from transformers) (0.0.17)\n",
      "Requirement already satisfied: sacremoses in c:\\users\\pavilion\\anaconda3\\lib\\site-packages (from transformers) (0.0.46)\n",
      "Requirement already satisfied: tokenizers<0.11,>=0.10.1 in c:\\users\\pavilion\\anaconda3\\lib\\site-packages (from transformers) (0.10.3)\n",
      "Requirement already satisfied: importlib-metadata in c:\\users\\pavilion\\anaconda3\\lib\\site-packages (from transformers) (4.8.1)\n",
      "Requirement already satisfied: packaging>=20.0 in c:\\users\\pavilion\\anaconda3\\lib\\site-packages (from transformers) (21.0)\n",
      "Requirement already satisfied: filelock in c:\\users\\pavilion\\anaconda3\\lib\\site-packages (from transformers) (3.0.8)\n",
      "Requirement already satisfied: typing-extensions in c:\\users\\pavilion\\anaconda3\\lib\\site-packages (from huggingface-hub>=0.0.17->transformers) (3.7.4.3)\n",
      "Requirement already satisfied: pyparsing>=2.0.2 in c:\\users\\pavilion\\anaconda3\\lib\\site-packages (from packaging>=20.0->transformers) (2.2.0)\n",
      "Requirement already satisfied: colorama in c:\\users\\pavilion\\anaconda3\\lib\\site-packages (from tqdm>=4.27->transformers) (0.3.9)\n",
      "Requirement already satisfied: zipp>=0.5 in c:\\users\\pavilion\\anaconda3\\lib\\site-packages (from importlib-metadata->transformers) (3.5.0)\n",
      "Requirement already satisfied: idna<2.8,>=2.5 in c:\\users\\pavilion\\anaconda3\\lib\\site-packages (from requests->transformers) (2.7)\n",
      "Requirement already satisfied: certifi>=2017.4.17 in c:\\users\\pavilion\\anaconda3\\lib\\site-packages (from requests->transformers) (2020.12.5)\n",
      "Requirement already satisfied: urllib3<1.24,>=1.21.1 in c:\\users\\pavilion\\anaconda3\\lib\\site-packages (from requests->transformers) (1.23)\n",
      "Requirement already satisfied: chardet<3.1.0,>=3.0.2 in c:\\users\\pavilion\\anaconda3\\lib\\site-packages (from requests->transformers) (3.0.4)\n",
      "Requirement already satisfied: joblib in c:\\users\\pavilion\\anaconda3\\lib\\site-packages (from sacremoses->transformers) (1.0.1)\n",
      "Requirement already satisfied: click in c:\\users\\pavilion\\anaconda3\\lib\\site-packages (from sacremoses->transformers) (6.7)\n",
      "Requirement already satisfied: six in c:\\users\\pavilion\\anaconda3\\lib\\site-packages (from sacremoses->transformers) (1.11.0)\n"
     ]
    },
    {
     "name": "stderr",
     "output_type": "stream",
     "text": [
      "WARNING: You are using pip version 21.0.1; however, version 21.2.4 is available.\n",
      "You should consider upgrading via the 'c:\\users\\pavilion\\anaconda3\\python.exe -m pip install --upgrade pip' command.\n"
     ]
    }
   ],
   "source": [
    "!pip install transformers"
   ]
  },
  {
   "cell_type": "markdown",
   "metadata": {},
   "source": [
    "# 0. Load Transformers and Importing Dependencies"
   ]
  },
  {
   "cell_type": "code",
   "execution_count": 2,
   "metadata": {},
   "outputs": [],
   "source": [
    "from transformers import pipeline"
   ]
  },
  {
   "cell_type": "code",
   "execution_count": 4,
   "metadata": {
    "collapsed": true
   },
   "outputs": [
    {
     "name": "stderr",
     "output_type": "stream",
     "text": [
      "No model was supplied, defaulted to sshleifer/distilbart-cnn-12-6 (https://huggingface.co/sshleifer/distilbart-cnn-12-6)\n"
     ]
    },
    {
     "data": {
      "application/vnd.jupyter.widget-view+json": {
       "model_id": "c694b8d95f644eb1bf20f167efb94286",
       "version_major": 2,
       "version_minor": 0
      },
      "text/plain": [
       "Downloading:   0%|          | 0.00/1.76k [00:00<?, ?B/s]"
      ]
     },
     "metadata": {},
     "output_type": "display_data"
    },
    {
     "name": "stderr",
     "output_type": "stream",
     "text": [
      "C:\\Users\\Pavilion\\Anaconda3\\lib\\site-packages\\transformers\\configuration_utils.py:337: UserWarning: Passing `gradient_checkpointing` to a config initialization is deprecated and will be removed in v5 Transformers. Using `model.gradient_checkpointing_enable()` instead, or if you are using the `Trainer` API, pass `gradient_checkpointing=True` in your `TrainingArguments`.\n",
      "  \"Passing `gradient_checkpointing` to a config initialization is deprecated and will be removed in v5 \"\n"
     ]
    },
    {
     "data": {
      "application/vnd.jupyter.widget-view+json": {
       "model_id": "711538b9c8c543189d99624f3692cd81",
       "version_major": 2,
       "version_minor": 0
      },
      "text/plain": [
       "Downloading:   0%|          | 0.00/1.14G [00:00<?, ?B/s]"
      ]
     },
     "metadata": {},
     "output_type": "display_data"
    },
    {
     "data": {
      "application/vnd.jupyter.widget-view+json": {
       "model_id": "3d8aeff98c684302b7ed15905c7cbab9",
       "version_major": 2,
       "version_minor": 0
      },
      "text/plain": [
       "Downloading:   0%|          | 0.00/26.0 [00:00<?, ?B/s]"
      ]
     },
     "metadata": {},
     "output_type": "display_data"
    },
    {
     "data": {
      "application/vnd.jupyter.widget-view+json": {
       "model_id": "c499f71624144cb0a149cab42223944f",
       "version_major": 2,
       "version_minor": 0
      },
      "text/plain": [
       "Downloading:   0%|          | 0.00/878k [00:00<?, ?B/s]"
      ]
     },
     "metadata": {},
     "output_type": "display_data"
    },
    {
     "data": {
      "application/vnd.jupyter.widget-view+json": {
       "model_id": "461813f043dd41c0865677f2021bb98a",
       "version_major": 2,
       "version_minor": 0
      },
      "text/plain": [
       "Downloading:   0%|          | 0.00/446k [00:00<?, ?B/s]"
      ]
     },
     "metadata": {},
     "output_type": "display_data"
    }
   ],
   "source": [
    "summarizer = pipeline('summarization')"
   ]
  },
  {
   "cell_type": "markdown",
   "metadata": {},
   "source": [
    "# 1. Load Summarization Pipeline"
   ]
  },
  {
   "cell_type": "markdown",
   "metadata": {},
   "source": [
    "# 2. Summarize Text"
   ]
  },
  {
   "cell_type": "code",
   "execution_count": 10,
   "metadata": {},
   "outputs": [],
   "source": [
    "article = \"\"\"\n",
    "Let’s back up 50,000 years or so. Imagine you’re a Neanderthal taking a leisurely stroll through the fields. Suddenly, in the nearby bushes, you hear a tiger. In a nanosecond, your entire body starts reacting. Your pulse quickens, your breathing gets shallow, your eyes dilate, your body starts producing adrenaline.\n",
    "Everything happening in your body is good; you’re prepared to survive this tiger encounter. There’s just one small problem. It wasn’t a tiger. It was a tiny prehistoric weasel. Now your body is primed for fight-or-flight, your heart is racing, you’re totally jacked up on adrenaline… but there is no danger.\n",
    "This is your body on anxiety. Replace the (nonexistent) tiger in the bushes with social media, traffic, politics, Covid-19, money, childcare, climate change, work stress, family drama, and you can quickly see why anxiety is the most common mental illness in America, affecting nearly 20% of the population. Modern-day humans are basically a bunch of freaked-out Neanderthals in fight-or-flight mode 24/7.\n",
    "“Anxiety is an impulse in our body that says, ‘I’m not safe right now,’” says Elizabeth Stanley, PhD, the author of Widen The Window: Training Your Body and Brain to Thrive During Stress and Recover from Trauma. “It’s automatic, really fast and unconscious.”\n",
    "In her work, Stanley makes the distinction between the thinking brain, our neocortex, responsible for decision-making, reasoning, ethics, conscious memory, learning, and the survival brain — the limbic system, brain stem, and cerebellum — which handles our basic survival, emotions, implicit memory, and stress arousal.\n",
    "One of the survival brain’s most important functions, according to Stanley, is neuroception, an unconscious process of rapidly scanning the internal and external environment for safety and danger. When danger is spotted, your survival brain sends an instantaneous stress arousal message to your body by turning on the sympathetic nervous system, resulting in the release of specific hormones that lead to certain physical sensations related to our heart, breathing, and digestion. “Whatever’s happening in the survival brain has these tremendous ripple effects through our body,” Stanley says.\n",
    "As Stephen Porges, PhD, a psychologist and the creator of the Polyvagal Theory, explains in an interview with PsychAlive, “These responses are not voluntary. Our nervous system is picking up information in the environment, not on a cognitive level, but on a neurobiological level.”\n",
    "Importantly, when we’re caught in a defensive response, the thinking brain is the last to be aware that something is wrong.“The thinking brain isn’t what decides whether we’re stressed, whether we’re feeling threatened or challenged, whether we’re going to turn stress on, whether we’re going to turn emotions on,” Stanley says. “Stress arousal and emotions belong to the survival brain.”\n",
    "So if you want to track your anxiety, your body, not your thoughts, will be your most accurate map.\n",
    "\n",
    "\"\"\""
   ]
  },
  {
   "cell_type": "code",
   "execution_count": 14,
   "metadata": {},
   "outputs": [],
   "source": [
    "summary = summarizer(article, max_length=150, min_length=30, do_sample=False)"
   ]
  },
  {
   "cell_type": "code",
   "execution_count": 15,
   "metadata": {},
   "outputs": [
    {
     "data": {
      "text/plain": [
       "' Anxiety is the most common mental illness in America, affecting nearly 20% of the population . Modern-day humans are basically a bunch of freaked-out Neanderthals in fight-or-flight mode 24/7 .'"
      ]
     },
     "execution_count": 15,
     "metadata": {},
     "output_type": "execute_result"
    }
   ],
   "source": [
    "summary[0]['summary_text']"
   ]
  },
  {
   "cell_type": "code",
   "execution_count": null,
   "metadata": {},
   "outputs": [],
   "source": []
  }
 ],
 "metadata": {
  "kernelspec": {
   "display_name": "Python 3",
   "language": "python",
   "name": "python3"
  },
  "language_info": {
   "codemirror_mode": {
    "name": "ipython",
    "version": 3
   },
   "file_extension": ".py",
   "mimetype": "text/x-python",
   "name": "python",
   "nbconvert_exporter": "python",
   "pygments_lexer": "ipython3",
   "version": "3.7.0"
  }
 },
 "nbformat": 4,
 "nbformat_minor": 2
}
